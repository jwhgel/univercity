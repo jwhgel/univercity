{
  "cells": [
    {
      "cell_type": "markdown",
      "metadata": {
        "id": "view-in-github",
        "colab_type": "text"
      },
      "source": [
        "<a href=\"https://colab.research.google.com/github/jwhgel/univercity/blob/main/Tasks/Ex_Tasks_3.ipynb\" target=\"_parent\"><img src=\"https://colab.research.google.com/assets/colab-badge.svg\" alt=\"Open In Colab\"/></a>"
      ]
    },
    {
      "cell_type": "markdown",
      "id": "bb332bf9",
      "metadata": {
        "id": "bb332bf9"
      },
      "source": [
        "# **Дополнительное задание №3. Обработка исключений и работа с текстовыми файлами**"
      ]
    },
    {
      "cell_type": "markdown",
      "id": "aa6808db",
      "metadata": {
        "id": "aa6808db"
      },
      "source": [
        "**БАЗА:**\n",
        "\n",
        "- **Обработка исключений** позволяет перехватывать и обрабатывать ошибки, возникающие при выполнении программы, предотвращая её аварийное завершение.\n",
        "- **Работа с файлами** - важный навык для чтения, записи и обработки текстовой информации в Python.\n",
        "\n",
        "---"
      ]
    },
    {
      "cell_type": "markdown",
      "id": "2478deca",
      "metadata": {
        "id": "2478deca"
      },
      "source": [
        "## **I. Обработка исключений**"
      ]
    },
    {
      "cell_type": "markdown",
      "id": "0ab0b851",
      "metadata": {
        "id": "0ab0b851"
      },
      "source": [
        "### **Пункт №1. Обработка некорректного индекса (IndexError)**"
      ]
    },
    {
      "cell_type": "markdown",
      "id": "46e69e1f",
      "metadata": {
        "id": "46e69e1f"
      },
      "source": [
        "Создайте список из нескольких элементов (например, [10, 20, 30]). Попросите пользователя ввести индекс элемента, который нужно вывести. Если пользователь введёт индекс, выходящий за границы списка, перехватите IndexError и сообщите об этом.\n",
        "\n",
        "**ОБЯЗАТЕЛЬНО:**\n",
        "- Создайте список из минимум 5 элементов\n",
        "- Покажите содержимое списка перед работой\n",
        "- Протестируйте минимум 4 случая (корректный индекс, отрицательный, слишком большой, нечисловое значение)"
      ]
    },
    {
      "cell_type": "code",
      "execution_count": null,
      "id": "724c5954",
      "metadata": {
        "id": "724c5954",
        "colab": {
          "base_uri": "https://localhost:8080/"
        },
        "outputId": "ace1a750-1f97-4166-bc31-feb79dea1c98"
      },
      "outputs": [
        {
          "output_type": "stream",
          "name": "stdout",
          "text": [
            "3\n",
            "40\n"
          ]
        }
      ],
      "source": [
        "a = [10,20,30,40,50,60]\n",
        "try:\n",
        "  b = int(input())\n",
        "  el = a[b]\n",
        "  print(el)\n",
        "except IndexError:\n",
        "  print(f\"Ошибка: индекс {b} выходит за границы списка!\")\n",
        "except ValueError:\n",
        "  print(f\"Ошибка: индекс {b} не является числом!\")"
      ]
    },
    {
      "cell_type": "code",
      "source": [
        "a = [10,20,30,40,50,60]\n",
        "try:\n",
        "  b = int(input())\n",
        "  el = a[b]\n",
        "  print(el)\n",
        "except IndexError:\n",
        "  print(f\"Ошибка: индекс {b} выходит за границы списка!\")\n",
        "except ValueError:\n",
        "  print(f\"Ошибка: индекс {b} не является числом!\")"
      ],
      "metadata": {
        "colab": {
          "base_uri": "https://localhost:8080/"
        },
        "id": "phBIZQhaOQKY",
        "outputId": "e8abde59-89a3-4e83-fdfe-a5101d45be20"
      },
      "id": "phBIZQhaOQKY",
      "execution_count": null,
      "outputs": [
        {
          "output_type": "stream",
          "name": "stdout",
          "text": [
            "-3\n",
            "40\n"
          ]
        }
      ]
    },
    {
      "cell_type": "code",
      "source": [
        "a = [10,20,30,40,50,60]\n",
        "try:\n",
        "  b = int(input())\n",
        "  el = a[b]\n",
        "  print(el)\n",
        "except IndexError:\n",
        "  print(f\"Ошибка: индекс {b} выходит за границы списка!\")\n",
        "except ValueError:\n",
        "  print(f\"Ошибка: индекс {b} не является числом!\")"
      ],
      "metadata": {
        "colab": {
          "base_uri": "https://localhost:8080/"
        },
        "id": "n8YHQXZ9OZwM",
        "outputId": "3cacd38a-4459-49b3-ea8d-eeafb84509f2"
      },
      "id": "n8YHQXZ9OZwM",
      "execution_count": null,
      "outputs": [
        {
          "output_type": "stream",
          "name": "stdout",
          "text": [
            "135\n",
            "Ошибка: индекс 135 выходит за границы списка!\n"
          ]
        }
      ]
    },
    {
      "cell_type": "code",
      "source": [
        "a = [10,20,30,40,50,60]\n",
        "try:\n",
        "  b = input()\n",
        "  с = int(b)\n",
        "  el = a[c]\n",
        "  print(el)\n",
        "except IndexError:\n",
        "  print(f\"Ошибка: индекс {c} выходит за границы списка!\")\n",
        "except ValueError:\n",
        "  print(f\"Ошибка: индекс {b} не является числом!\")"
      ],
      "metadata": {
        "colab": {
          "base_uri": "https://localhost:8080/"
        },
        "id": "aIWTCFcyOZ4V",
        "outputId": "352d3d93-6659-422f-c6f6-fbcb6024b2e0"
      },
      "id": "aIWTCFcyOZ4V",
      "execution_count": null,
      "outputs": [
        {
          "output_type": "stream",
          "name": "stdout",
          "text": [
            "ывыв\n",
            "Ошибка: индекс ывыв не является числом!\n"
          ]
        }
      ]
    },
    {
      "cell_type": "markdown",
      "id": "7ac84eec",
      "metadata": {
        "id": "7ac84eec"
      },
      "source": [
        "---"
      ]
    },
    {
      "cell_type": "markdown",
      "id": "f8bfb6e1",
      "metadata": {
        "id": "f8bfb6e1"
      },
      "source": [
        "### **Пункт №2. Обработка исключений в цикле**"
      ]
    },
    {
      "cell_type": "markdown",
      "id": "63c3b706",
      "metadata": {
        "id": "63c3b706"
      },
      "source": [
        "Напишите программу, которая запрашивает у пользователя числа и добавляет их в список.\n",
        "- Если пользователь вводит некорректные данные, программа должна выводить сообщение об ошибке и продолжать работу.\n",
        "- Для выхода из программы пользователь должен ввести \"стоп\".\n",
        "\n",
        "**ОБЯЗАТЕЛЬНО:**\n",
        "- Покажите процесс ввода минимум 7 значений (включая ошибочные)\n",
        "- Выведите финальный список и статистику (сколько чисел введено успешно, сколько ошибок)"
      ]
    },
    {
      "cell_type": "markdown",
      "source": [
        "\n",
        "\n",
        "```\n",
        "# Пример:\n",
        "# Введите число: 10\n",
        "# Введите число: текст (Ошибка: это не число)\n",
        "# Введите число: стоп\n",
        "# Итоговый список: [10]\n",
        "```\n",
        "\n"
      ],
      "metadata": {
        "id": "aiWaEPOuoHDS"
      },
      "id": "aiWaEPOuoHDS"
    },
    {
      "cell_type": "code",
      "execution_count": null,
      "id": "31448e09",
      "metadata": {
        "id": "31448e09",
        "colab": {
          "base_uri": "https://localhost:8080/"
        },
        "outputId": "aa7c4b4c-1d4c-4256-e450-a5a9c1bc3235"
      },
      "outputs": [
        {
          "output_type": "stream",
          "name": "stdout",
          "text": [
            "Введите число: 10\n",
            "Введите число: 30\n",
            "Введите число: adjs\n",
            "(Ошибка: это не число)\n",
            "Введите число: 56\n",
            "Введите число: 45\n",
            "Введите число: 89\n",
            "Введите число: 34\n",
            "Введите число: zdlzhdakjdaSD\n",
            "(Ошибка: это не число)\n",
            "Введите число: cnjg\n",
            "(Ошибка: это не число)\n",
            "Введите число: стоп\n",
            "Итоговый список: [10, 30, 56, 45, 89, 34]\n",
            "Введено успешно: 6 чисел\n",
            "Ошибок: 3\n"
          ]
        }
      ],
      "source": [
        "chisla = []\n",
        "norm = 0\n",
        "strem = 0\n",
        "while True:\n",
        "  a = input('Введите число: ').strip()\n",
        "  if a.lower() == 'стоп':\n",
        "    break\n",
        "  try:\n",
        "    nomer = int(a)\n",
        "    chisla.append(nomer)\n",
        "    norm += 1\n",
        "  except ValueError:\n",
        "    strem+=1\n",
        "    print('(Ошибка: это не число)')\n",
        "print(f'Итоговый список: {chisla}')\n",
        "print(f'Введено успешно: {norm} чисел')\n",
        "print(f'Ошибок: {strem}')"
      ]
    },
    {
      "cell_type": "markdown",
      "metadata": {
        "id": "Yv-FNYTEp0vV"
      },
      "source": [
        "---"
      ],
      "id": "Yv-FNYTEp0vV"
    },
    {
      "cell_type": "markdown",
      "id": "5971f85d",
      "metadata": {
        "id": "5971f85d"
      },
      "source": [
        "### **Пункт №3**"
      ]
    },
    {
      "cell_type": "markdown",
      "id": "b1457074",
      "metadata": {
        "id": "b1457074"
      },
      "source": [
        "Создайте функцию `get_list_element(lst, index)`, которая безопасно извлекает элемент списка по индексу с использованием блоков `try`, `except`, `else` и `finally`.\n",
        "\n",
        "Функция должна:\n",
        "- Обрабатывать выход за пределы списка\n",
        "- Обрабатывать некорректный тип индекса\n",
        "- Выводить сообщение о попытке доступа в блоке `finally`\n",
        "\n",
        "**ОБЯЗАТЕЛЬНО:**\n",
        "- Выведите результаты для минимум 4 различных случаев (успешный доступ, выход за границы, отрицательный индекс, нечисловой индекс)\n",
        "- Покажите, что блок `finally` выполняется всегда\n",
        "\n",
        "```python\n",
        "# Пример использования:\n",
        "my_list = [1, 2, 3, 4, 5]\n",
        "get_list_element(my_list, 2)   # Вывод: \"Элемент: 3\", \"Попытка доступа завершена\"\n",
        "get_list_element(my_list, 10)  # Вывод: \"Индекс вне диапазона\", \"Попытка доступа завершена\"\n",
        "```"
      ]
    },
    {
      "cell_type": "code",
      "execution_count": null,
      "id": "1c067cf3",
      "metadata": {
        "id": "1c067cf3",
        "colab": {
          "base_uri": "https://localhost:8080/"
        },
        "outputId": "db8e1a4e-a782-4eb5-da4e-0c69b5c755d7"
      },
      "outputs": [
        {
          "output_type": "stream",
          "name": "stdout",
          "text": [
            "Элемент: 3\n",
            "Попытка доступа завершена\n"
          ]
        }
      ],
      "source": [
        "def get_list_element(lst,index):\n",
        "  try:\n",
        "    a = lst[index]\n",
        "  except IndexError:\n",
        "    print('Индекс вне диапазона, ')\n",
        "  except TypeError:\n",
        "    print('Индекс не является числом, ')\n",
        "  else:\n",
        "    print(f'Элемент: {a}')\n",
        "  finally:\n",
        "    print('Попытка доступа завершена')\n",
        "zxc = [1,2,3,4,5]\n",
        "get_list_element(zxc,2)"
      ]
    },
    {
      "cell_type": "code",
      "source": [
        "def get_list_element(lst,index):\n",
        "  try:\n",
        "    a = lst[index]\n",
        "  except IndexError:\n",
        "    print('Индекс вне диапазона, ')\n",
        "  except TypeError:\n",
        "    print('Индекс не является числом, ')\n",
        "  else:\n",
        "    print(f'Элемент: {a}')\n",
        "  finally:\n",
        "    print('Попытка доступа завершена')\n",
        "zxc = [1,2,3,4,5]\n",
        "get_list_element(zxc,-4)"
      ],
      "metadata": {
        "colab": {
          "base_uri": "https://localhost:8080/"
        },
        "id": "XzWBbEN1Uysz",
        "outputId": "b0881033-5d27-4151-c515-e322c907c2cd"
      },
      "id": "XzWBbEN1Uysz",
      "execution_count": null,
      "outputs": [
        {
          "output_type": "stream",
          "name": "stdout",
          "text": [
            "Элемент: 2\n",
            "Попытка доступа завершена\n"
          ]
        }
      ]
    },
    {
      "cell_type": "code",
      "source": [
        "def get_list_element(lst,index):\n",
        "  try:\n",
        "    a = lst[index]\n",
        "  except IndexError:\n",
        "    print('Индекс вне диапазона')\n",
        "  except TypeError:\n",
        "    print('Индекс не является числом')\n",
        "  else:\n",
        "    print(f'Элемент: {a}')\n",
        "  finally:\n",
        "    print('Попытка доступа завершена')\n",
        "zxc = [1,2,3,4,5]\n",
        "get_list_element(zxc,132)"
      ],
      "metadata": {
        "colab": {
          "base_uri": "https://localhost:8080/"
        },
        "id": "CzYjsxk6Uy6-",
        "outputId": "55ffa826-073e-45fe-9362-3cc63f2295ac"
      },
      "id": "CzYjsxk6Uy6-",
      "execution_count": null,
      "outputs": [
        {
          "output_type": "stream",
          "name": "stdout",
          "text": [
            "Индекс вне диапазона\n",
            "Попытка доступа завершена\n"
          ]
        }
      ]
    },
    {
      "cell_type": "code",
      "source": [
        "def get_list_element(lst,index):\n",
        "  try:\n",
        "    a = lst[index]\n",
        "  except IndexError:\n",
        "    print('Индекс вне диапазона')\n",
        "  except TypeError:\n",
        "    print('Индекс не является числом')\n",
        "  else:\n",
        "    print(f'Элемент: {a}')\n",
        "  finally:\n",
        "    print('Попытка доступа завершена')\n",
        "zxc = [1,2,3,4,5]\n",
        "get_list_element(zxc,'строка')"
      ],
      "metadata": {
        "colab": {
          "base_uri": "https://localhost:8080/"
        },
        "id": "2xAIZIQJUzDL",
        "outputId": "aa9c6877-0b7b-47ab-f56a-06587e8073d7"
      },
      "id": "2xAIZIQJUzDL",
      "execution_count": null,
      "outputs": [
        {
          "output_type": "stream",
          "name": "stdout",
          "text": [
            "Индекс не является числом\n",
            "Попытка доступа завершена\n"
          ]
        }
      ]
    },
    {
      "cell_type": "markdown",
      "id": "b5bb39c7",
      "metadata": {
        "id": "b5bb39c7"
      },
      "source": [
        "---"
      ]
    },
    {
      "cell_type": "markdown",
      "id": "b0972d59",
      "metadata": {
        "id": "b0972d59"
      },
      "source": [
        "## **II. Работа с текстовыми файлами**"
      ]
    },
    {
      "cell_type": "markdown",
      "id": "35729435",
      "metadata": {
        "id": "35729435"
      },
      "source": [
        "### **Пункт №1. Запись в файл**"
      ]
    },
    {
      "cell_type": "markdown",
      "id": "3121365f",
      "metadata": {
        "id": "3121365f"
      },
      "source": [
        "Напишите программу, которая запрашивает у пользователя строку и записывает её в файл output.txt в режиме дозаписи.\n",
        "\n",
        "**ОБЯЗАТЕЛЬНО:**\n",
        "- Запросите у пользователя минимум 3 строки\n",
        "- Покажите содержимое файла после записи"
      ]
    },
    {
      "cell_type": "code",
      "execution_count": 15,
      "id": "cbce6c5f",
      "metadata": {
        "id": "cbce6c5f",
        "colab": {
          "base_uri": "https://localhost:8080/"
        },
        "outputId": "37a00a37-aee7-4f34-cdc7-2f1d20662940"
      },
      "outputs": [
        {
          "output_type": "stream",
          "name": "stdout",
          "text": [
            "Введите строку: gggggg\n",
            "Введите строку: hhhhhh\n",
            "Введите строку: dddddd\n",
            "Введите строку: hhhhhh\n",
            "Введите строку: ttttttttttt\n",
            "Введите строку: стоп\n",
            "мама\n",
            "папа\n",
            "брат\n",
            "сестра\n",
            "бабушка\n",
            "дедушка\n",
            "кошка\n",
            "собака\n",
            "крыса\n",
            "хомяк\n",
            "подруга\n",
            "друг\n",
            "gggggg\n",
            "hhhhhh\n",
            "dddddd\n",
            "hhhhhh\n",
            "ttttttttttt\n",
            "\n"
          ]
        }
      ],
      "source": [
        "# Открываем файл в режиме дозаписи ('a' - append)\n",
        "with open('output.txt', 'a', encoding='utf-8') as file:\n",
        "    while True:\n",
        "        m = input(f\"Введите строку: \").strip()\n",
        "\n",
        "        if m.lower() == 'стоп':\n",
        "            break\n",
        "\n",
        "        file.write(m + '\\n')\n",
        "\n",
        "try:\n",
        "    with open('output.txt', 'r', encoding='utf-8') as file:\n",
        "        abs = file.read()\n",
        "        if abs:\n",
        "            print(abs)\n",
        "        else:\n",
        "            print(\"Файл пуст\")\n",
        "except FileNotFoundError:\n",
        "    print(\"Файл не найден\")"
      ]
    },
    {
      "cell_type": "markdown",
      "id": "361b3d2b",
      "metadata": {
        "id": "361b3d2b"
      },
      "source": [
        "---"
      ]
    },
    {
      "cell_type": "markdown",
      "id": "cce864b4",
      "metadata": {
        "id": "cce864b4"
      },
      "source": [
        "### **Пункт №2. Чтение из файла**"
      ]
    },
    {
      "cell_type": "markdown",
      "id": "4fc83b82",
      "metadata": {
        "id": "4fc83b82"
      },
      "source": [
        "Напишите программу, которая открывает файл output.txt и выводит его содержимое на экран.\n",
        "\n",
        "**ОБЯЗАТЕЛЬНО:**\n",
        "- Создайте файл с минимум 5 строками текста\n",
        "- Покажите содержимое файла целиком\n",
        "- Обработайте случай отсутствующего файла"
      ]
    },
    {
      "cell_type": "code",
      "execution_count": 16,
      "id": "df27a986",
      "metadata": {
        "id": "df27a986",
        "colab": {
          "base_uri": "https://localhost:8080/"
        },
        "outputId": "84767d76-3aea-4f6a-939e-adc7b819e6fd"
      },
      "outputs": [
        {
          "output_type": "stream",
          "name": "stdout",
          "text": [
            "output\n",
            "мама\n",
            "папа\n",
            "брат\n",
            "сестра\n",
            "бабушка\n",
            "дедушка\n",
            "кошка\n",
            "собака\n",
            "крыса\n",
            "хомяк\n",
            "подруга\n",
            "друг\n",
            "gggggg\n",
            "hhhhhh\n",
            "dddddd\n",
            "hhhhhh\n",
            "ttttttttttt\n",
            "\n"
          ]
        }
      ],
      "source": [
        "imya = input()\n",
        "try:\n",
        "  with open(f'{imya}.txt', 'r', encoding='utf-8') as file:\n",
        "    a = file.read()\n",
        "    print(a)\n",
        "\n",
        "except FileNotFoundError:\n",
        "  print(f\"ОШИБКА: Файл '{imya}' не найден!\")"
      ]
    },
    {
      "cell_type": "code",
      "source": [
        "imya = input()\n",
        "try:\n",
        "  with open(f'{imya}.txt', 'r', encoding='utf-8') as file:\n",
        "    a = file.read()\n",
        "    print(a)\n",
        "\n",
        "except FileNotFoundError:\n",
        "  print(f\"ОШИБКА: Файл '{imya}' не найден!\")"
      ],
      "metadata": {
        "colab": {
          "base_uri": "https://localhost:8080/"
        },
        "id": "JnAPq4YiZEPG",
        "outputId": "ac92b085-eebb-4861-c1a1-a2ef37da01fc"
      },
      "id": "JnAPq4YiZEPG",
      "execution_count": 17,
      "outputs": [
        {
          "output_type": "stream",
          "name": "stdout",
          "text": [
            "jDJWD\n",
            "ОШИБКА: Файл 'jDJWD' не найден!\n"
          ]
        }
      ]
    },
    {
      "cell_type": "markdown",
      "id": "2be296a2",
      "metadata": {
        "id": "2be296a2"
      },
      "source": [
        "---"
      ]
    },
    {
      "cell_type": "markdown",
      "id": "045696ba",
      "metadata": {
        "id": "045696ba"
      },
      "source": [
        "### **Пункт №3. Подсчет строк в файле**"
      ]
    },
    {
      "cell_type": "markdown",
      "id": "570ac3e9",
      "metadata": {
        "id": "570ac3e9"
      },
      "source": [
        "Напишите программу, которая открывает файл output.txt и подсчитывает количество строк в нём.\n",
        "\n",
        "**ОБЯЗАТЕЛЬНО:**\n",
        "- Создайте тестовый файл с известным количеством строк (минимум 10)\n",
        "- Покажите первые 3 строки файла\n",
        "- Выведите общее количество строк\n",
        "- Выведите количество непустых строк"
      ]
    },
    {
      "cell_type": "code",
      "execution_count": 18,
      "id": "84aa205a",
      "metadata": {
        "id": "84aa205a",
        "colab": {
          "base_uri": "https://localhost:8080/"
        },
        "outputId": "b638aa41-9c08-4f8d-cb9d-6ec025193e5b"
      },
      "outputs": [
        {
          "output_type": "stream",
          "name": "stdout",
          "text": [
            "мама\n",
            "папа\n",
            "брат\n",
            "Всего строк в файле: 18\n",
            "Непустых строк: 17\n"
          ]
        }
      ],
      "source": [
        "with open('output.txt', 'r', encoding='utf-8') as file:\n",
        "  lines = file.readlines()\n",
        "  tri = file.readlines()[:3]\n",
        "  nepusto = [x for x in lines if x.strip()]\n",
        "  for i in range(3):\n",
        "    print(lines[i].rstrip())\n",
        "  print(f\"Всего строк в файле: {len(lines)+1}\")\n",
        "  print(f\"Непустых строк: {len(nepusto)}\")"
      ]
    },
    {
      "cell_type": "markdown",
      "id": "94c6dcb0",
      "metadata": {
        "id": "94c6dcb0"
      },
      "source": [
        "---"
      ]
    },
    {
      "cell_type": "markdown",
      "id": "56f2a74e",
      "metadata": {
        "id": "56f2a74e"
      },
      "source": [
        "### **Пункт №4. Копирование содержимого файла**"
      ]
    },
    {
      "cell_type": "markdown",
      "id": "ed736046",
      "metadata": {
        "id": "ed736046"
      },
      "source": [
        "Напишите программу, которая копирует содержимое файла input.txt в файл output.txt.\n",
        "\n",
        "**ОБЯЗАТЕЛЬНО:**\n",
        "- Создайте исходный файл с тестовым содержимым (минимум 5 строк)\n",
        "- Покажите содержимое исходного файла\n",
        "- Выполните копирование\n",
        "- Покажите содержимое скопированного файла\n",
        "- Обработайте случай отсутствия исходного файла"
      ]
    },
    {
      "cell_type": "code",
      "execution_count": 25,
      "id": "31bd8a06",
      "metadata": {
        "id": "31bd8a06",
        "colab": {
          "base_uri": "https://localhost:8080/"
        },
        "outputId": "834f0fee-7ac9-445b-cdc8-f2aae66e48b3"
      },
      "outputs": [
        {
          "output_type": "stream",
          "name": "stdout",
          "text": [
            "input\n",
            "ailjdlsjcf\n",
            "adflaihflaf\n",
            "dhasifhzaf\n",
            "ahdsahfaf\n",
            "aldhasjdfkiz\n",
            "ahfdakujfhaif\n",
            "aldhakjugfba\n",
            "adkauhda\n",
            "ajdcaksbfcsai\n",
            "adckajufca\n",
            "мама\n",
            "папа\n",
            "брат\n",
            "сестра\n",
            "бабушка\n",
            "дедушка\n",
            "кошка\n",
            "собака\n",
            "крыса\n",
            "хомяк\n",
            "подруга\n",
            "друг\n",
            "gggggg\n",
            "\n"
          ]
        }
      ],
      "source": [
        "a = input()\n",
        "try:\n",
        "  with open(f'{a}.txt', 'r', encoding='utf-8') as file:\n",
        "    m = file.read()\n",
        "    print(m)\n",
        "  with open('output.txt', 'r', encoding='utf-8') as file:\n",
        "    content = file.read()\n",
        "  with open('output.txt', 'a', encoding='utf-8') as file:\n",
        "    z = file.write(m)\n",
        "    print(content)\n",
        "except FileNotFoundError:\n",
        "  print('Файл не найден')"
      ]
    },
    {
      "cell_type": "code",
      "source": [
        "a = input()\n",
        "try:\n",
        "  with open(f'{a}.txt', 'r', encoding='utf-8') as file:\n",
        "    m = file.read()\n",
        "    print(m)\n",
        "  with open('output.txt', 'r', encoding='utf-8') as file:\n",
        "    content = file.read()\n",
        "  with open('output.txt', 'a+', encoding='utf-8') as file:\n",
        "    z = file.write(m)\n",
        "    print(content)\n",
        "except FileNotFoundError:\n",
        "  print('Файл не найден')"
      ],
      "metadata": {
        "colab": {
          "base_uri": "https://localhost:8080/"
        },
        "id": "EN-JGq1IfJnt",
        "outputId": "49ffb10c-ed59-4257-dfdc-3367872930c4"
      },
      "id": "EN-JGq1IfJnt",
      "execution_count": 9,
      "outputs": [
        {
          "output_type": "stream",
          "name": "stdout",
          "text": [
            "nsajcfhna\n",
            "Файл не найден\n"
          ]
        }
      ]
    },
    {
      "cell_type": "markdown",
      "id": "2f7c8ee5",
      "metadata": {
        "id": "2f7c8ee5"
      },
      "source": [
        "---"
      ]
    },
    {
      "cell_type": "markdown",
      "id": "70ee398b",
      "metadata": {
        "id": "70ee398b"
      },
      "source": [
        "### **Пункт №5. Поиск слова в файле**"
      ]
    },
    {
      "cell_type": "markdown",
      "id": "c67f8987",
      "metadata": {
        "id": "c67f8987"
      },
      "source": [
        "Напишите программу, которая открывает файл output.txt и проверяет, содержится ли в нём слово, введённое пользователем.\n",
        "\n",
        "**ОБЯЗАТЕЛЬНО:**\n",
        "- Создайте файл с минимум 10 строками текста\n",
        "- Покажите содержимое файла\n",
        "- Протестируйте поиск минимум 5 различных слов\n",
        "- Выведите номера строк, где найдено слово\n",
        "- Покажите количество вхождений слова"
      ]
    },
    {
      "cell_type": "code",
      "execution_count": 26,
      "id": "d961bbf3",
      "metadata": {
        "id": "d961bbf3",
        "colab": {
          "base_uri": "https://localhost:8080/"
        },
        "outputId": "9843a31a-d4e7-4a8e-ffc1-b6a505ab857b"
      },
      "outputs": [
        {
          "output_type": "stream",
          "name": "stdout",
          "text": [
            "мама\n",
            "папа\n",
            "брат\n",
            "сестра\n",
            "бабушка\n",
            "дедушка\n",
            "кошка\n",
            "собака\n",
            "крыса\n",
            "хомяк\n",
            "подруга\n",
            "друг\n",
            "gggggg\n",
            "ailjdlsjcf\n",
            "adflaihflaf\n",
            "dhasifhzaf\n",
            "ahdsahfaf\n",
            "aldhasjdfkiz\n",
            "ahfdakujfhaif\n",
            "aldhakjugfba\n",
            "adkauhda\n",
            "ajdcaksbfcsai\n",
            "adckajufca\n",
            "мама\n",
            "Найдено в строках: 1\n",
            "Количество вхождений: 1\n"
          ]
        }
      ],
      "source": [
        "with open('output.txt', 'r', encoding='utf-8') as file:\n",
        "        lines = file.readlines()\n",
        "try:\n",
        "    with open('output.txt', 'r', encoding='utf-8') as file:\n",
        "        a = file.read()\n",
        "        print(a)\n",
        "except FileNotFoundError:\n",
        "    print(f\"Файл '{a}' не найден.\")\n",
        "\n",
        "h = input().split()\n",
        "\n",
        "for z in h:\n",
        "    found_line = []\n",
        "    count = 0\n",
        "    try:\n",
        "        with open('output.txt', 'r', encoding='utf-8') as file:\n",
        "            for nomer, line in enumerate(file, 1):\n",
        "                if z in line:\n",
        "                    found_line.append(nomer)\n",
        "                    count += line.count(z)\n",
        "\n",
        "        if found_line:\n",
        "            print(f\"Найдено в строках: {', '.join(map(str, found_line))}\")\n",
        "            print(f\"Количество вхождений: {count}\")\n",
        "        else:\n",
        "            print(\"Слово не найдено.\")\n",
        "\n",
        "    except FileNotFoundError:\n",
        "        print(f\"ОШИБКА: Файл не найден!\")"
      ]
    },
    {
      "cell_type": "code",
      "source": [
        "with open('output.txt', 'r', encoding='utf-8') as file:\n",
        "        lines = file.readlines()\n",
        "\n",
        "h = input().split()\n",
        "\n",
        "for z in h:\n",
        "    found_line = []\n",
        "    count = 0\n",
        "    try:\n",
        "        with open('output.txt', 'r', encoding='utf-8') as file:\n",
        "            for nomer, line in enumerate(file, 1):\n",
        "                if z in line:\n",
        "                    found_line.append(nomer)\n",
        "                    count += line.count(z)\n",
        "\n",
        "        if found_line:\n",
        "            print(f\"Найдено в строках: {', '.join(map(str, found_line))}\")\n",
        "            print(f\"Количество вхождений: {count}\")\n",
        "        else:\n",
        "            print(\"Слово не найдено.\")\n",
        "\n",
        "    except FileNotFoundError:\n",
        "        print(f\"ОШИБКА: Файл не найден!\")"
      ],
      "metadata": {
        "colab": {
          "base_uri": "https://localhost:8080/"
        },
        "id": "IDJnWN8UldeA",
        "outputId": "c96ead3b-1cb2-4212-fe31-34e93490336b"
      },
      "id": "IDJnWN8UldeA",
      "execution_count": 27,
      "outputs": [
        {
          "output_type": "stream",
          "name": "stdout",
          "text": [
            "лошадь\n",
            "Слово не найдено.\n"
          ]
        }
      ]
    },
    {
      "cell_type": "markdown",
      "id": "8d69c77a",
      "metadata": {
        "id": "8d69c77a"
      },
      "source": [
        "---"
      ]
    },
    {
      "cell_type": "markdown",
      "id": "0079e067",
      "metadata": {
        "id": "0079e067"
      },
      "source": [
        "### **Пункт №6. Чтение файла с обработкой FileNotFoundError**"
      ]
    },
    {
      "cell_type": "markdown",
      "id": "c3d27312",
      "metadata": {
        "id": "c3d27312"
      },
      "source": [
        "Напишите программу, которая запрашивает у пользователя имя файла и пытается открыть его. Если файла не существует, перехватите FileNotFoundError и выведите сообщение «Файл не найден!».\n",
        "\n",
        "**ОБЯЗАТЕЛЬНО:**\n",
        "- Протестируйте с существующим файлом\n",
        "- Протестируйте с несуществующим файлом\n",
        "- Покажите содержимое существующего файла"
      ]
    },
    {
      "cell_type": "code",
      "execution_count": 29,
      "id": "0c262bd2",
      "metadata": {
        "id": "0c262bd2",
        "colab": {
          "base_uri": "https://localhost:8080/"
        },
        "outputId": "41279fd1-10f8-4a77-92b5-faef627dc22c"
      },
      "outputs": [
        {
          "output_type": "stream",
          "name": "stdout",
          "text": [
            "input\n",
            "ailjdlsjcf\n",
            "adflaihflaf\n",
            "dhasifhzaf\n",
            "ahdsahfaf\n",
            "aldhasjdfkiz\n",
            "ahfdakujfhaif\n",
            "aldhakjugfba\n",
            "adkauhda\n",
            "ajdcaksbfcsai\n",
            "adckajufca\n"
          ]
        }
      ],
      "source": [
        "m = input()\n",
        "try:\n",
        "  with open(f'{m}.txt', 'r', encoding='utf-8') as file:\n",
        "      lines = file.readlines()\n",
        "  with open(f'{m}.txt', 'r', encoding='utf-8') as file:\n",
        "      a = file.read()\n",
        "      print(a)\n",
        "except FileNotFoundError:\n",
        "    print(f\"Файл '{m}' не найден.\")"
      ]
    },
    {
      "cell_type": "code",
      "source": [
        "m = input()\n",
        "try:\n",
        "  with open(f'{m}.txt', 'r', encoding='utf-8') as file:\n",
        "      lines = file.readlines()\n",
        "  with open(f'{m}.txt', 'r', encoding='utf-8') as file:\n",
        "      a = file.read()\n",
        "      print(a)\n",
        "except FileNotFoundError:\n",
        "    print(f\"Файл '{m}' не найден.\")"
      ],
      "metadata": {
        "colab": {
          "base_uri": "https://localhost:8080/"
        },
        "id": "iHcneW2fmYP6",
        "outputId": "253490e7-869e-4b3c-f0a2-5d03b26477e0"
      },
      "id": "iHcneW2fmYP6",
      "execution_count": 30,
      "outputs": [
        {
          "output_type": "stream",
          "name": "stdout",
          "text": [
            "tdsdegrhfgtjyuli;o\n",
            "Файл 'tdsdegrhfgtjyuli;o' не найден.\n"
          ]
        }
      ]
    },
    {
      "cell_type": "markdown",
      "id": "c3258b46",
      "metadata": {
        "id": "c3258b46"
      },
      "source": [
        "---"
      ]
    },
    {
      "cell_type": "markdown",
      "id": "02e0767b",
      "metadata": {
        "id": "02e0767b"
      },
      "source": [
        "### **Пункт №7. Подсчет статистики файла**"
      ]
    },
    {
      "cell_type": "markdown",
      "id": "1c33b711",
      "metadata": {
        "id": "1c33b711"
      },
      "source": [
        "Напишите функцию `file_statistics(filename)`, которая читает текстовый файл и возвращает словарь со статистикой:\n",
        "- Количество строк\n",
        "- Количество слов\n",
        "- Количество символов (с пробелами и без)\n",
        "\n",
        "**ОБЯЗАТЕЛЬНО:**\n",
        "- Создайте тестовый файл с минимум 5 строками текста\n",
        "- Выведите содержимое файла ДО обработки\n",
        "- Выведите полученную статистику\n",
        "- Обработайте случай несуществующего файла\n",
        "\n",
        "```python\n",
        "# Создание тестового файла\n",
        "test_content = \"\"\"Первая строка текста\n",
        "Вторая строка с большим количеством слов\n",
        "Третья строка\n",
        "Четвертая строка для теста\n",
        "Пятая и последняя строка\"\"\"\n",
        "\n",
        "# Сохраните в файл и продемонстрируйте работу\n",
        "```"
      ]
    },
    {
      "cell_type": "code",
      "execution_count": 31,
      "id": "43bfd6b8",
      "metadata": {
        "id": "43bfd6b8",
        "colab": {
          "base_uri": "https://localhost:8080/"
        },
        "outputId": "ac616bbc-e232-424c-cbfd-cf6480d1fea9"
      },
      "outputs": [
        {
          "output_type": "stream",
          "name": "stdout",
          "text": [
            "Первая строка текста\n",
            "Вторая строка с большим количеством слов\n",
            "Третья строка\n",
            "Четвертая строка для теста\n",
            "Пятая и последняя строка\n",
            "Количество строк: 5\n",
            "Количество слов: 19\n",
            "Количество символов (с пробелами): 127\n",
            "Количество символов (без пробелов): 109\n"
          ]
        }
      ],
      "source": [
        "test_content = \"\"\"Первая строка текста\n",
        "Вторая строка с большим количеством слов\n",
        "Третья строка\n",
        "Четвертая строка для теста\n",
        "Пятая и последняя строка\"\"\"\n",
        "\n",
        "with open('xd.txt', 'w', encoding='utf-8') as f:\n",
        "    f.write(test_content)\n",
        "\n",
        "with open('xd.txt', 'r', encoding='utf-8') as f:\n",
        "    print(f.read())\n",
        "\n",
        "\n",
        "def file_statistics(filename):\n",
        "    stata = {'Количество строк': 0,'Количество слов': 0,'Количество символов (с пробелами)': 0,'Количество символов (без пробелов)': 0}\n",
        "    try:\n",
        "        with open(filename, 'r', encoding='utf-8') as file:\n",
        "            for line in file:\n",
        "                stata['Количество строк'] += 1\n",
        "                stata['Количество символов (с пробелами)'] += len(line)\n",
        "                stata['Количество символов (без пробелов)'] += len(line.replace(\" \", \"\").strip())\n",
        "                words = line.split()\n",
        "                stata['Количество слов'] += len(words)\n",
        "        return stata\n",
        "    except FileNotFoundError:\n",
        "        return f\"Файл '{filename}' не найден!\"\n",
        "\n",
        "haha = file_statistics('xd.txt')\n",
        "if isinstance(haha, dict):\n",
        "    for key, value in haha.items():\n",
        "        print(f\"{key}: {value}\")\n",
        "else:\n",
        "    print(haha)"
      ]
    },
    {
      "cell_type": "code",
      "source": [
        "test_content = \"\"\"Первая строка текста\n",
        "Вторая строка с большим количеством слов\n",
        "Третья строка\n",
        "Четвертая строка для теста\n",
        "Пятая и последняя строка\"\"\"\n",
        "\n",
        "with open('xd.txt', 'w', encoding='utf-8') as f:\n",
        "    f.write(test_content)\n",
        "\n",
        "with open('xd.txt', 'r', encoding='utf-8') as f:\n",
        "    print(f.read())\n",
        "\n",
        "\n",
        "def file_statistics(filename):\n",
        "    stata = {'Количество строк': 0,'Количество слов': 0,'Количество символов (с пробелами)': 0,'Количество символов (без пробелов)': 0}\n",
        "    try:\n",
        "        with open(filename, 'r', encoding='utf-8') as file:\n",
        "            for line in file:\n",
        "                stata['Количество строк'] += 1\n",
        "                stata['Количество символов (с пробелами)'] += len(line)\n",
        "                stata['Количество символов (без пробелов)'] += len(line.replace(\" \", \"\").strip())\n",
        "                words = line.split()\n",
        "                stata['Количество слов'] += len(words)\n",
        "        return stata\n",
        "    except FileNotFoundError:\n",
        "        return f\"Файл '{filename}' не найден!\"\n",
        "\n",
        "nenaideno = file_statistics('315151.txt')\n",
        "print(nenaideno)"
      ],
      "metadata": {
        "colab": {
          "base_uri": "https://localhost:8080/"
        },
        "id": "BqFi3X8tTQ67",
        "outputId": "f31282e7-6720-4633-e04c-b4ff34d650ca"
      },
      "id": "BqFi3X8tTQ67",
      "execution_count": 33,
      "outputs": [
        {
          "output_type": "stream",
          "name": "stdout",
          "text": [
            "Первая строка текста\n",
            "Вторая строка с большим количеством слов\n",
            "Третья строка\n",
            "Четвертая строка для теста\n",
            "Пятая и последняя строка\n",
            "Файл '315151.txt' не найден!\n"
          ]
        }
      ]
    },
    {
      "cell_type": "markdown",
      "id": "903281dd",
      "metadata": {
        "id": "903281dd"
      },
      "source": [
        "---"
      ]
    },
    {
      "cell_type": "markdown",
      "id": "ad8b4ae4",
      "metadata": {
        "id": "ad8b4ae4"
      },
      "source": [
        "### **Пункт №8. Поиск и замена в файле**"
      ]
    },
    {
      "cell_type": "markdown",
      "id": "e5230d0a",
      "metadata": {
        "id": "e5230d0a"
      },
      "source": [
        "Напишите функцию `replace_in_file(filename, old_text, new_text)`, которая заменяет все вхождения `old_text` на `new_text` в файле и сохраняет результат в новый файл с префиксом \"modified_\".\n",
        "\n",
        "**ОБЯЗАТЕЛЬНО:**\n",
        "- Создайте файл с текстом, содержащим минимум 3 вхождения заменяемого слова\n",
        "- Выведите содержимое файла ДО замены\n",
        "- Выполните замену\n",
        "- Выведите содержимое файла ПОСЛЕ замены\n",
        "- Покажите количество произведенных замен"
      ]
    },
    {
      "cell_type": "code",
      "execution_count": 35,
      "id": "64a05e35",
      "metadata": {
        "id": "64a05e35",
        "colab": {
          "base_uri": "https://localhost:8080/"
        },
        "outputId": "780fe9a5-cdbd-4173-b745-41b574ebb018"
      },
      "outputs": [
        {
          "output_type": "stream",
          "name": "stdout",
          "text": [
            "ggggg hhhhh\n",
            "jjjjj ddddd rrrrr\n",
            "ppppp\n",
            "mmmmm sssss\n",
            "Произведено замен: 1\n",
            "fffff hhhhh\n",
            "jjjjj ddddd rrrrr\n",
            "ppppp\n",
            "mmmmm sssss\n"
          ]
        }
      ],
      "source": [
        "def replace_in_file(filename, old_text, new_text):\n",
        "    try:\n",
        "        with open(filename, 'r', encoding='utf-8') as file:\n",
        "            m = file.read()\n",
        "\n",
        "        modified_m = m.replace(old_text, new_text)\n",
        "        perestanovka = m.count(old_text)\n",
        "\n",
        "        modified_filename = \"modified_\" + filename\n",
        "        with open(modified_filename, 'w', encoding='utf-8') as file:\n",
        "            file.write(modified_m)\n",
        "\n",
        "        return perestanovka, modified_filename\n",
        "\n",
        "    except FileNotFoundError:\n",
        "        return 0, f\"Файл '{filename}' не найден!\"\n",
        "\n",
        "\n",
        "test_text = \"\"\"ggggg hhhhh\n",
        "jjjjj ddddd rrrrr\n",
        "ppppp\n",
        "mmmmm sssss\"\"\"\n",
        "\n",
        "tekst = \"replace_test.txt\"\n",
        "with open(tekst, 'w', encoding='utf-8') as f:\n",
        "    f.write(test_text)\n",
        "\n",
        "with open(tekst, 'r', encoding='utf-8') as f:\n",
        "    print(f.read())\n",
        "\n",
        "old_word = \"ggggg\"\n",
        "new_word = \"fffff\"\n",
        "count, modified_file = replace_in_file(tekst, old_word, new_word)\n",
        "\n",
        "if isinstance(count, int):\n",
        "    print(f\"Произведено замен: {count}\")\n",
        "    with open(modified_file, 'r', encoding='utf-8') as f:\n",
        "        print(f.read())\n",
        "else:\n",
        "    print(modified_file)"
      ]
    },
    {
      "cell_type": "markdown",
      "id": "f77b0568",
      "metadata": {
        "id": "f77b0568"
      },
      "source": [
        "---"
      ]
    },
    {
      "cell_type": "markdown",
      "id": "79a081b1",
      "metadata": {
        "id": "79a081b1"
      },
      "source": [
        "### **Пункт №9. Объединение файлов**"
      ]
    },
    {
      "cell_type": "markdown",
      "id": "599cee3c",
      "metadata": {
        "id": "599cee3c"
      },
      "source": [
        "Создайте функцию `merge_files(file_list, output_file)`, которая объединяет содержимое нескольких текстовых файлов в один, добавляя после каждого разделитель.\n",
        "\n",
        "**ОБЯЗАТЕЛЬНО:**\n",
        "- Создайте минимум 3 файла с разным содержимым\n",
        "- Выведите содержимое КАЖДОГО исходного файла\n",
        "- Выполните объединение\n",
        "- Выведите содержимое результирующего файла"
      ]
    },
    {
      "cell_type": "code",
      "execution_count": 36,
      "id": "581b5868",
      "metadata": {
        "id": "581b5868",
        "colab": {
          "base_uri": "https://localhost:8080/"
        },
        "outputId": "6ad4a230-6666-495b-eca5-09d36497471e"
      },
      "outputs": [
        {
          "output_type": "stream",
          "name": "stdout",
          "text": [
            "kkkkk\n",
            "lllll\n",
            "mmmmm\n",
            "Файлы успешно объединены в 'derevnyajerk.txt'\n",
            "kkkkk$$lllll$$mmmmm\n"
          ]
        }
      ],
      "source": [
        "def merge_files(file_list, output_file, separator=\"$$\"):\n",
        "  with open(output_file, 'w', encoding='utf-8') as f:\n",
        "    for i, filename in enumerate(file_list):\n",
        "      with open(filename, 'r', encoding='utf-8') as m:\n",
        "        f.write(m.read())\n",
        "      if i < len(file_list) - 1:\n",
        "        f.write(separator)\n",
        "  return f\"Файлы успешно объединены в '{output_file}'\"\n",
        "\n",
        "file1 = \"kkkkk\"\n",
        "file2 = \"lllll\"\n",
        "file3 = \"mmmmm\"\n",
        "\n",
        "with open('file1.txt', 'w+', encoding='utf-8') as f:\n",
        "    f.write(file1)\n",
        "    f.seek(0)\n",
        "    a = f.read()\n",
        "    print(a)\n",
        "with open('file2.txt', 'w+', encoding='utf-8') as f:\n",
        "    f.write(file2)\n",
        "    f.seek(0)\n",
        "    a = f.read()\n",
        "    print(a)\n",
        "with open('file3.txt', 'w+', encoding='utf-8') as f:\n",
        "    f.write(file3)\n",
        "    f.seek(0)\n",
        "    a = f.read()\n",
        "    print(a)\n",
        "\n",
        "\n",
        "vmeste = ['file1.txt', 'file2.txt', 'file3.txt']\n",
        "fullvmeste = 'derevnyajerk.txt'\n",
        "result_message = merge_files(vmeste, fullvmeste)\n",
        "print(result_message)\n",
        "\n",
        "\n",
        "try:\n",
        "    with open(fullvmeste, 'r', encoding='utf-8') as f:\n",
        "        print(f.read())\n",
        "except FileNotFoundError:\n",
        "    print(f\"Файл '{fullvmeste}' не найден.\")"
      ]
    },
    {
      "cell_type": "markdown",
      "id": "eb866091",
      "metadata": {
        "id": "eb866091"
      },
      "source": [
        "---"
      ]
    }
  ],
  "metadata": {
    "colab": {
      "provenance": [],
      "include_colab_link": true
    },
    "language_info": {
      "name": "python"
    },
    "kernelspec": {
      "name": "python3",
      "display_name": "Python 3"
    }
  },
  "nbformat": 4,
  "nbformat_minor": 5
}